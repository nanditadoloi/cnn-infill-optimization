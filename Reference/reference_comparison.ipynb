{
 "cells": [
  {
   "cell_type": "code",
   "execution_count": 8,
   "metadata": {},
   "outputs": [],
   "source": [
    "import torch\n",
    "import torch.nn as nn\n",
    "from torch.autograd import Variable"
   ]
  },
  {
   "cell_type": "code",
   "execution_count": 1,
   "metadata": {},
   "outputs": [],
   "source": [
    "import numpy as np\n",
    "import pandas as pd\n",
    "import matplotlib.pyplot as plt\n",
    "\n",
    "ref_FOPT_df = pd.read_csv('Y-FOPT-ref.csv',header=None)\n",
    "ref_FOPT_np = ref_FOPT_df.to_numpy()\n",
    "ref_FOPT_np = ref_FOPT_np[:,0]"
   ]
  },
  {
   "cell_type": "code",
   "execution_count": 2,
   "metadata": {},
   "outputs": [
    {
     "data": {
      "text/plain": [
       "<matplotlib.colorbar.Colorbar at 0x7fa5b3968a20>"
      ]
     },
     "execution_count": 2,
     "metadata": {},
     "output_type": "execute_result"
    },
    {
     "data": {
      "image/png": "[encoded data removed]",
      "text/plain": [
       "<Figure size 432x288 with 2 Axes>"
      ]
     },
     "metadata": {
      "needs_background": "light"
     },
     "output_type": "display_data"
    }
   ],
   "source": [
    "reference_production = ref_FOPT_np.reshape((11,51),order='F')\n",
    "plt.imshow(reference_production,cmap='jet')\n",
    "plt.colorbar()\n",
    "#plt.show()"
   ]
  },
  {
   "cell_type": "code",
   "execution_count": 3,
   "metadata": {},
   "outputs": [],
   "source": [
    "porosity_df = pd.read_csv('X-poro-ref.csv',header=None)\n",
    "porosity_np = porosity_df.to_numpy()\n",
    "porosity_np = porosity_np[:,0:125]\n",
    "porosity_list = []\n",
    "for i in range(561):\n",
    "    new_data_infil = np.zeros((5,5,5))\n",
    "    new_data_infil = np.reshape(porosity_np[i,:],(5,5,5))\n",
    "    porosity_list.append(new_data_infil)"
   ]
  },
  {
   "cell_type": "code",
   "execution_count": null,
   "metadata": {},
   "outputs": [],
   "source": []
  },
  {
   "cell_type": "code",
   "execution_count": 4,
   "metadata": {},
   "outputs": [],
   "source": [
    "saturation_df = pd.read_csv('X-saturation-ref.csv',header=None)\n",
    "saturation_np = saturation_df.to_numpy()\n",
    "saturation_np = saturation_np[:,0:125]\n",
    "saturation_list = []\n",
    "for i in range(561):\n",
    "    new_data_infil = np.zeros((5,5,5))\n",
    "    new_data_infil = np.reshape(saturation_np[i,:],(5,5,5))\n",
    "    saturation_list.append(new_data_infil)"
   ]
  },
  {
   "cell_type": "code",
   "execution_count": null,
   "metadata": {},
   "outputs": [],
   "source": []
  },
  {
   "cell_type": "code",
   "execution_count": 5,
   "metadata": {},
   "outputs": [],
   "source": [
    "pressure_df = pd.read_csv('X-pressure-ref.csv',header=None)\n",
    "pressure_np = pressure_df.to_numpy()\n",
    "pressure_np = pressure_np[:,0:125]\n",
    "pressure_list = []\n",
    "for i in range(561):\n",
    "    new_data_infil = np.zeros((5,5,5))\n",
    "    new_data_infil = np.reshape(pressure_np[i,:],(5,5,5))\n",
    "    pressure_list.append(new_data_infil)"
   ]
  },
  {
   "cell_type": "code",
   "execution_count": null,
   "metadata": {},
   "outputs": [],
   "source": []
  },
  {
   "cell_type": "code",
   "execution_count": 6,
   "metadata": {},
   "outputs": [],
   "source": [
    "permeability_df = pd.read_csv('X-perm-ref.csv',header=None)\n",
    "permeability_np = permeability_df.to_numpy()\n",
    "permeability_np_x = permeability_np[0:561,0:125]\n",
    "permeability_np_y = permeability_np[561:1122,0:125]\n",
    "permeability_np_z = permeability_np[1122:1683,0:125]\n",
    "permeability_np = (permeability_np_x+permeability_np_y+permeability_np_z)/3.0\n",
    "permeability_list = []\n",
    "for i in range(561):\n",
    "    new_data_infil = np.zeros((5,5,5))\n",
    "    new_data_infil = np.reshape(permeability_np[i,:],(5,5,5))\n",
    "    permeability_list.append(new_data_infil)"
   ]
  },
  {
   "cell_type": "code",
   "execution_count": null,
   "metadata": {},
   "outputs": [],
   "source": []
  },
  {
   "cell_type": "code",
   "execution_count": 7,
   "metadata": {},
   "outputs": [],
   "source": [
    "auxiliary_df = pd.read_csv('X-auxilary-ref.csv',header=None)\n",
    "auxiliary_np = auxiliary_df.to_numpy()\n",
    "auxiliary_np = auxiliary_np[:,0:5]\n",
    "auxiliary_list = []\n",
    "for i in range(561):\n",
    "    auxiliary_list.append(auxiliary_np[i,:])"
   ]
  },
  {
   "cell_type": "code",
   "execution_count": null,
   "metadata": {},
   "outputs": [],
   "source": []
  },
  {
   "cell_type": "code",
   "execution_count": 10,
   "metadata": {},
   "outputs": [],
   "source": [
    "### (1): Data\n",
    "testing_X_perm = np.array(permeability_list)\n",
    "testing_X_poro = np.array(porosity_list)\n",
    "testing_X_satu = np.array(saturation_list)\n",
    "testing_X_pres = np.array(pressure_list)\n",
    "testing_X_auxu = np.array(auxiliary_list)"
   ]
  },
  {
   "cell_type": "code",
   "execution_count": 12,
   "metadata": {},
   "outputs": [],
   "source": [
    "### Format Channels for CNN Networks\n",
    "testing_X_perm = np.expand_dims(testing_X_perm, axis=1)\n",
    "testing_X_poro = np.expand_dims(testing_X_poro, axis=1)\n",
    "testing_X_satu = np.expand_dims(testing_X_satu, axis=1)\n",
    "testing_X_pres = np.expand_dims(testing_X_pres, axis=1)\n",
    "\n",
    "pt_testing_X_perm = Variable(torch.from_numpy(testing_X_perm).float(), requires_grad=False).to(device)\n",
    "pt_testing_X_poro = Variable(torch.from_numpy(testing_X_poro).float(), requires_grad=False).to(device)\n",
    "pt_testing_X_satu = Variable(torch.from_numpy(testing_X_satu).float(), requires_grad=False).to(device)\n",
    "pt_testing_X_pres = Variable(torch.from_numpy(testing_X_pres).float(), requires_grad=False).to(device)\n",
    "pt_testing_X_auxu = Variable(torch.from_numpy(testing_X_auxu).float(), requires_grad=False).to(device)\n"
   ]
  },
  {
   "cell_type": "code",
   "execution_count": 9,
   "metadata": {},
   "outputs": [],
   "source": [
    "class CNN100(nn.Module):\n",
    "    def __init__(self):\n",
    "        super(CNN100, self).__init__()\n",
    "        self.conv1 = torch.nn.Conv3d(in_channels=1, out_channels=100, kernel_size=[2,2,2], stride=1, padding=0)\n",
    "        self.conv2 = torch.nn.Conv3d(in_channels=100, out_channels=100, kernel_size=[2,2,2], stride=1, padding=0)\n",
    "        self.conv3 = torch.nn.Conv3d(in_channels=100, out_channels=100, kernel_size=[2,2,2], stride=1, padding=0)\n",
    "        self.batchnorm = torch.nn.BatchNorm3d(num_features=1)\n",
    "\n",
    "    def forward(self, x):\n",
    "        norm_x = self.batchnorm(x)\n",
    "        conv1_out = torch.nn.functional.relu(self.conv1(norm_x))\n",
    "        conv2_out = torch.nn.functional.relu(self.conv2(conv1_out))\n",
    "        conv3_out = torch.nn.functional.relu(self.conv3(conv2_out))\n",
    "        flat_out = conv3_out.reshape(conv3_out.shape[0],-1)\n",
    "        return flat_out\n",
    "\n",
    "class CNN20(nn.Module):\n",
    "    def __init__(self):\n",
    "        super(CNN20, self).__init__()\n",
    "        self.conv1 = torch.nn.Conv3d(in_channels=1, out_channels=20, kernel_size=[2,2,2], stride=1, padding=0)\n",
    "        self.conv2 = torch.nn.Conv3d(in_channels=20, out_channels=20, kernel_size=[2,2,2], stride=1, padding=0)\n",
    "        self.conv3 = torch.nn.Conv3d(in_channels=20, out_channels=20, kernel_size=[2,2,2], stride=1, padding=0)\n",
    "        self.batchnorm = torch.nn.BatchNorm3d(num_features=1)\n",
    "\n",
    "    def forward(self, x):\n",
    "        norm_x = self.batchnorm(x)\n",
    "        conv1_out = torch.nn.functional.relu(self.conv1(norm_x))\n",
    "        conv2_out = torch.nn.functional.relu(self.conv2(conv1_out))\n",
    "        conv3_out = torch.nn.functional.relu(self.conv3(conv2_out))\n",
    "        flat_out = conv3_out.reshape(conv3_out.shape[0],-1)\n",
    "        return flat_out\n",
    "\n",
    "class Net(nn.Module):\n",
    "    def __init__(self):\n",
    "        super(Net, self).__init__()\n",
    "        self.perm_cnn = CNN100()\n",
    "        self.poro_cnn = CNN100()\n",
    "        self.satu_cnn = CNN20()\n",
    "        self.pres_cnn = CNN20()\n",
    "        self.batchnorm = torch.nn.BatchNorm1d(num_features=1925)\n",
    "        \n",
    "        self.lin1 = torch.nn.Linear(in_features=1925, out_features=500)\n",
    "        self.lin2 = torch.nn.Linear(in_features=500, out_features=100)\n",
    "        self.lin3 = torch.nn.Linear(in_features=100, out_features=30)\n",
    "        self.ouput = torch.nn.Linear(in_features=30, out_features=1)\n",
    "    def forward(self, Xperm, Xporo, Xsatu, Xpres, Xauxu):\n",
    "        poro_out = self.poro_cnn(Xporo)\n",
    "        perm_out = self.perm_cnn(Xperm)\n",
    "        satu_out = self.satu_cnn(Xsatu)\n",
    "        pres_out = self.pres_cnn(Xpres)\n",
    "        #Concatenation\n",
    "        con_out = torch.cat([perm_out,poro_out,satu_out,pres_out,Xauxu],1)\n",
    "        con_out_norm = self.batchnorm(con_out)\n",
    "        lin1_out = torch.nn.functional.relu(self.lin1(con_out_norm))\n",
    "        lin2_out = torch.nn.functional.relu(self.lin2(lin1_out))\n",
    "        lin3_out = torch.nn.functional.relu(self.lin3(lin2_out))\n",
    "        fopt = self.ouput(lin3_out)  \n",
    "        return fopt"
   ]
  },
  {
   "cell_type": "code",
   "execution_count": 11,
   "metadata": {},
   "outputs": [],
   "source": [
    "### (2) Model\n",
    "device = torch.device(\"cuda:0\" if torch.cuda.is_available() else \"cpu\")\n",
    "net = Net()\n",
    "net.load_state_dict(torch.load(\"my_model.pt\"))\n",
    "net.eval()\n",
    "net = net.to(device)\n",
    "cost_function = torch.nn.MSELoss() # Mean squared error"
   ]
  },
  {
   "cell_type": "code",
   "execution_count": 13,
   "metadata": {},
   "outputs": [],
   "source": [
    "cnn_FOPT_np = net(pt_testing_X_perm,pt_testing_X_poro,pt_testing_X_satu,pt_testing_X_pres,pt_testing_X_auxu).data.cpu().numpy().flatten()*100000.0"
   ]
  },
  {
   "cell_type": "code",
   "execution_count": 19,
   "metadata": {},
   "outputs": [
    {
     "data": {
      "text/plain": [
       "<matplotlib.colorbar.Colorbar at 0x7fa56550ceb8>"
      ]
     },
     "execution_count": 19,
     "metadata": {},
     "output_type": "execute_result"
    },
    {
     "data": {
      "image/png": "[encoded data removed]",
      "text/plain": [
       "<Figure size 432x288 with 2 Axes>"
      ]
     },
     "metadata": {
      "needs_background": "light"
     },
     "output_type": "display_data"
    }
   ],
   "source": [
    "cnn_production = cnn_FOPT_np.reshape((11,51),order='F')/10.0\n",
    "plt.imshow(cnn_production,cmap='jet')\n",
    "plt.colorbar()"
   ]
  },
  {
   "cell_type": "code",
   "execution_count": 17,
   "metadata": {},
   "outputs": [
    {
     "data": {
      "text/plain": [
       "(8, 50)"
      ]
     },
     "execution_count": 17,
     "metadata": {},
     "output_type": "execute_result"
    }
   ],
   "source": [
    "np.unravel_index(np.argmax(cnn_production),cnn_production.shape)"
   ]
  },
  {
   "cell_type": "code",
   "execution_count": 18,
   "metadata": {},
   "outputs": [
    {
     "data": {
      "text/plain": [
       "(4, 50)"
      ]
     },
     "execution_count": 18,
     "metadata": {},
     "output_type": "execute_result"
    }
   ],
   "source": [
    "np.unravel_index(np.argmax(reference_production),reference_production.shape)"
   ]
  },
  {
   "cell_type": "code",
   "execution_count": 20,
   "metadata": {},
   "outputs": [
    {
     "data": {
      "text/plain": [
       "25617.0"
      ]
     },
     "execution_count": 20,
     "metadata": {},
     "output_type": "execute_result"
    }
   ],
   "source": [
    "reference_production[4,50]"
   ]
  },
  {
   "cell_type": "code",
   "execution_count": 21,
   "metadata": {},
   "outputs": [
    {
     "data": {
      "text/plain": [
       "26851.8"
      ]
     },
     "execution_count": 21,
     "metadata": {},
     "output_type": "execute_result"
    }
   ],
   "source": [
    "cnn_production[8,50]"
   ]
  },
  {
   "cell_type": "code",
   "execution_count": 22,
   "metadata": {},
   "outputs": [
    {
     "data": {
      "text/plain": [
       "22596.994"
      ]
     },
     "execution_count": 22,
     "metadata": {},
     "output_type": "execute_result"
    }
   ],
   "source": [
    "cnn_production[4,50]"
   ]
  },
  {
   "cell_type": "code",
   "execution_count": 23,
   "metadata": {},
   "outputs": [
    {
     "data": {
      "text/plain": [
       "24917.1"
      ]
     },
     "execution_count": 23,
     "metadata": {},
     "output_type": "execute_result"
    }
   ],
   "source": [
    "reference_production[8,50]"
   ]
  },
  {
   "cell_type": "code",
   "execution_count": 24,
   "metadata": {},
   "outputs": [
    {
     "data": {
      "text/plain": [
       "217.58579483174725"
      ]
     },
     "execution_count": 24,
     "metadata": {},
     "output_type": "execute_result"
    }
   ],
   "source": [
    "np.sqrt(np.linalg.norm(cnn_production-reference_production,'fro'))"
   ]
  },
  {
   "cell_type": "code",
   "execution_count": 25,
   "metadata": {},
   "outputs": [
    {
     "data": {
      "text/plain": [
       "345.9903979709781"
      ]
     },
     "execution_count": 25,
     "metadata": {},
     "output_type": "execute_result"
    }
   ],
   "source": [
    "np.mean(cnn_production-reference_production)"
   ]
  },
  {
   "cell_type": "code",
   "execution_count": 35,
   "metadata": {},
   "outputs": [
    {
     "data": {
      "text/plain": [
       "<matplotlib.legend.Legend at 0x7fa5647e1390>"
      ]
     },
     "execution_count": 35,
     "metadata": {},
     "output_type": "execute_result"
    },
    {
     "data": {
      "image/png": "[encoded data removed]",
      "text/plain": [
       "<Figure size 432x288 with 1 Axes>"
      ]
     },
     "metadata": {
      "needs_background": "light"
     },
     "output_type": "display_data"
    }
   ],
   "source": [
    "plt.imshow(reference_production,cmap='jet')\n",
    "plt.plot([50],[8],'*w',label='CNN')\n",
    "plt.plot([50],[4],'^w',label='GT')\n",
    "plt.legend(bbox_to_anchor=(0,1), loc='upper left', ncol=1)\n",
    "#plt.colorbar()"
   ]
  },
  {
   "cell_type": "code",
   "execution_count": null,
   "metadata": {},
   "outputs": [],
   "source": []
  }
 ],
 "metadata": {
  "kernelspec": {
   "display_name": "Python 3",
   "language": "python",
   "name": "python3"
  },
  "language_info": {
   "codemirror_mode": {
    "name": "ipython",
    "version": 3
   },
   "file_extension": ".py",
   "mimetype": "text/x-python",
   "name": "python",
   "nbconvert_exporter": "python",
   "pygments_lexer": "ipython3",
   "version": "3.8.1"
  }
 },
 "nbformat": 4,
 "nbformat_minor": 4
}
