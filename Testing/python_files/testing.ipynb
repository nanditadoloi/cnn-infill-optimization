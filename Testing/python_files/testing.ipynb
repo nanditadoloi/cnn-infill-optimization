{
 "cells": [
  {
   "cell_type": "code",
   "execution_count": 15,
   "metadata": {},
   "outputs": [],
   "source": [
    "import torch\n",
    "import torch.nn as nn\n",
    "from torch.autograd import Variable"
   ]
  },
  {
   "cell_type": "code",
   "execution_count": 1,
   "metadata": {},
   "outputs": [],
   "source": [
    "import numpy as np\n",
    "import pandas as pd"
   ]
  },
  {
   "cell_type": "code",
   "execution_count": 2,
   "metadata": {},
   "outputs": [],
   "source": [
    "porosity_df = pd.read_csv('X-poro_test.csv',header=None)\n",
    "porosity_np = porosity_df.to_numpy()\n",
    "porosity_np = porosity_np[:,0:125]\n",
    "porosity_list = []"
   ]
  },
  {
   "cell_type": "code",
   "execution_count": 3,
   "metadata": {},
   "outputs": [],
   "source": [
    "for i in range(250):\n",
    "    new_data_infil = np.zeros((5,5,5))\n",
    "    new_data_infil = np.reshape(porosity_np[i,:],(5,5,5))\n",
    "    porosity_list.append(new_data_infil)"
   ]
  },
  {
   "cell_type": "code",
   "execution_count": null,
   "metadata": {},
   "outputs": [],
   "source": []
  },
  {
   "cell_type": "code",
   "execution_count": 4,
   "metadata": {},
   "outputs": [],
   "source": [
    "saturation_df = pd.read_csv('X-saturation_test.csv',header=None)\n",
    "saturation_np = saturation_df.to_numpy()\n",
    "saturation_np = saturation_np[:,0:125]\n",
    "saturation_list = []"
   ]
  },
  {
   "cell_type": "code",
   "execution_count": 5,
   "metadata": {},
   "outputs": [],
   "source": [
    "for i in range(250):\n",
    "    new_data_infil = np.zeros((5,5,5))\n",
    "    new_data_infil = np.reshape(saturation_np[i,:],(5,5,5))\n",
    "    saturation_list.append(new_data_infil)"
   ]
  },
  {
   "cell_type": "code",
   "execution_count": 6,
   "metadata": {},
   "outputs": [
    {
     "data": {
      "text/plain": [
       "(250, 126)"
      ]
     },
     "execution_count": 6,
     "metadata": {},
     "output_type": "execute_result"
    }
   ],
   "source": [
    "saturation_df.shape"
   ]
  },
  {
   "cell_type": "code",
   "execution_count": 7,
   "metadata": {},
   "outputs": [],
   "source": [
    "pressure_df = pd.read_csv('X-pressure_test.csv',header=None)\n",
    "pressure_np = pressure_df.to_numpy()\n",
    "pressure_np = pressure_np[:,0:125]\n",
    "pressure_list = []"
   ]
  },
  {
   "cell_type": "code",
   "execution_count": 8,
   "metadata": {},
   "outputs": [],
   "source": [
    "for i in range(250):\n",
    "    new_data_infil = np.zeros((5,5,5))\n",
    "    new_data_infil = np.reshape(pressure_np[i,:],(5,5,5))\n",
    "    pressure_list.append(new_data_infil)"
   ]
  },
  {
   "cell_type": "code",
   "execution_count": null,
   "metadata": {},
   "outputs": [],
   "source": []
  },
  {
   "cell_type": "code",
   "execution_count": 9,
   "metadata": {},
   "outputs": [],
   "source": [
    "permeability_df = pd.read_csv('X-perm_test.csv',header=None)\n",
    "permeability_np = permeability_df.to_numpy()\n",
    "permeability_np_x = permeability_np[0:250,0:125]\n",
    "permeability_np_y = permeability_np[250:500,0:125]\n",
    "permeability_np_z = permeability_np[500:750,0:125]\n",
    "permeability_np = (permeability_np_x+permeability_np_y+permeability_np_z)/3.0\n",
    "permeability_list = []"
   ]
  },
  {
   "cell_type": "code",
   "execution_count": 10,
   "metadata": {},
   "outputs": [],
   "source": [
    "for i in range(250):\n",
    "    new_data_infil = np.zeros((5,5,5))\n",
    "    new_data_infil = np.reshape(permeability_np[i,:],(5,5,5))\n",
    "    permeability_list.append(new_data_infil)"
   ]
  },
  {
   "cell_type": "code",
   "execution_count": null,
   "metadata": {},
   "outputs": [],
   "source": []
  },
  {
   "cell_type": "code",
   "execution_count": 11,
   "metadata": {},
   "outputs": [],
   "source": [
    "auxiliary_df = pd.read_csv('X-auxilary_test.csv',header=None)\n",
    "auxiliary_np = auxiliary_df.to_numpy()\n",
    "auxiliary_np = auxiliary_np[:,0:5]\n",
    "auxiliary_list = []"
   ]
  },
  {
   "cell_type": "code",
   "execution_count": 12,
   "metadata": {},
   "outputs": [],
   "source": [
    "for i in range(250):\n",
    "    auxiliary_list.append(auxiliary_np[i,:])"
   ]
  },
  {
   "cell_type": "code",
   "execution_count": null,
   "metadata": {},
   "outputs": [],
   "source": []
  },
  {
   "cell_type": "code",
   "execution_count": 13,
   "metadata": {},
   "outputs": [],
   "source": [
    "FOPT_df = pd.read_csv('Y-FOPT_test.csv',header=None)\n",
    "FOPT_np = FOPT_df.to_numpy()\n",
    "FOPT_np = FOPT_np[:,0]\n",
    "FOPT_list = []"
   ]
  },
  {
   "cell_type": "code",
   "execution_count": 14,
   "metadata": {},
   "outputs": [],
   "source": [
    "for i in range(250):\n",
    "    FOPT_list.append(FOPT_np[i])"
   ]
  },
  {
   "cell_type": "code",
   "execution_count": null,
   "metadata": {},
   "outputs": [],
   "source": []
  },
  {
   "cell_type": "code",
   "execution_count": 17,
   "metadata": {},
   "outputs": [],
   "source": [
    "### (1): Data\n",
    "testing_X_perm = np.array(permeability_list)\n",
    "testing_X_poro = np.array(porosity_list)\n",
    "testing_X_satu = np.array(saturation_list)\n",
    "testing_X_pres = np.array(pressure_list)\n",
    "testing_X_auxu = np.array(auxiliary_list)\n",
    "testing_Y = np.array(FOPT_list)/10000.0\n"
   ]
  },
  {
   "cell_type": "code",
   "execution_count": 19,
   "metadata": {},
   "outputs": [],
   "source": [
    "### Format Channels for CNN Networks\n",
    "testing_X_perm = np.expand_dims(testing_X_perm, axis=1)\n",
    "testing_X_poro = np.expand_dims(testing_X_poro, axis=1)\n",
    "testing_X_satu = np.expand_dims(testing_X_satu, axis=1)\n",
    "testing_X_pres = np.expand_dims(testing_X_pres, axis=1)\n",
    "\n",
    "pt_testing_X_perm = Variable(torch.from_numpy(testing_X_perm).float(), requires_grad=False).to(device)\n",
    "pt_testing_X_poro = Variable(torch.from_numpy(testing_X_poro).float(), requires_grad=False).to(device)\n",
    "pt_testing_X_satu = Variable(torch.from_numpy(testing_X_satu).float(), requires_grad=False).to(device)\n",
    "pt_testing_X_pres = Variable(torch.from_numpy(testing_X_pres).float(), requires_grad=False).to(device)\n",
    "pt_testing_X_auxu = Variable(torch.from_numpy(testing_X_auxu).float(), requires_grad=False).to(device)\n",
    "pt_testing_Y = Variable(torch.from_numpy(testing_Y).float(), requires_grad=False).to(device)"
   ]
  },
  {
   "cell_type": "code",
   "execution_count": null,
   "metadata": {},
   "outputs": [],
   "source": []
  },
  {
   "cell_type": "code",
   "execution_count": 16,
   "metadata": {},
   "outputs": [],
   "source": [
    "class CNN100(nn.Module):\n",
    "    def __init__(self):\n",
    "        super(CNN100, self).__init__()\n",
    "        self.conv1 = torch.nn.Conv3d(in_channels=1, out_channels=100, kernel_size=[2,2,2], stride=1, padding=0)\n",
    "        self.conv2 = torch.nn.Conv3d(in_channels=100, out_channels=100, kernel_size=[2,2,2], stride=1, padding=0)\n",
    "        self.conv3 = torch.nn.Conv3d(in_channels=100, out_channels=100, kernel_size=[2,2,2], stride=1, padding=0)\n",
    "        self.batchnorm = torch.nn.BatchNorm3d(num_features=1)\n",
    "\n",
    "    def forward(self, x):\n",
    "        norm_x = self.batchnorm(x)\n",
    "        conv1_out = torch.nn.functional.relu(self.conv1(norm_x))\n",
    "        conv2_out = torch.nn.functional.relu(self.conv2(conv1_out))\n",
    "        conv3_out = torch.nn.functional.relu(self.conv3(conv2_out))\n",
    "        flat_out = conv3_out.reshape(conv3_out.shape[0],-1)\n",
    "        return flat_out\n",
    "\n",
    "class CNN20(nn.Module):\n",
    "    def __init__(self):\n",
    "        super(CNN20, self).__init__()\n",
    "        self.conv1 = torch.nn.Conv3d(in_channels=1, out_channels=20, kernel_size=[2,2,2], stride=1, padding=0)\n",
    "        self.conv2 = torch.nn.Conv3d(in_channels=20, out_channels=20, kernel_size=[2,2,2], stride=1, padding=0)\n",
    "        self.conv3 = torch.nn.Conv3d(in_channels=20, out_channels=20, kernel_size=[2,2,2], stride=1, padding=0)\n",
    "        self.batchnorm = torch.nn.BatchNorm3d(num_features=1)\n",
    "\n",
    "    def forward(self, x):\n",
    "        norm_x = self.batchnorm(x)\n",
    "        conv1_out = torch.nn.functional.relu(self.conv1(norm_x))\n",
    "        conv2_out = torch.nn.functional.relu(self.conv2(conv1_out))\n",
    "        conv3_out = torch.nn.functional.relu(self.conv3(conv2_out))\n",
    "        flat_out = conv3_out.reshape(conv3_out.shape[0],-1)\n",
    "        return flat_out\n",
    "\n",
    "class Net(nn.Module):\n",
    "    def __init__(self):\n",
    "        super(Net, self).__init__()\n",
    "        self.perm_cnn = CNN100()\n",
    "        self.poro_cnn = CNN100()\n",
    "        self.satu_cnn = CNN20()\n",
    "        self.pres_cnn = CNN20()\n",
    "        self.batchnorm = torch.nn.BatchNorm1d(num_features=1925)\n",
    "        \n",
    "        self.lin1 = torch.nn.Linear(in_features=1925, out_features=500)\n",
    "        self.lin2 = torch.nn.Linear(in_features=500, out_features=100)\n",
    "        self.lin3 = torch.nn.Linear(in_features=100, out_features=30)\n",
    "        self.ouput = torch.nn.Linear(in_features=30, out_features=1)\n",
    "    \n",
    "    def forward(self, Xperm, Xporo, Xsatu, Xpres, Xauxu):\n",
    "        poro_out = self.poro_cnn(Xporo)\n",
    "        perm_out = self.perm_cnn(Xperm)\n",
    "        satu_out = self.satu_cnn(Xsatu)\n",
    "        pres_out = self.pres_cnn(Xpres)\n",
    "        #Concatenation\n",
    "        con_out = torch.cat([perm_out,poro_out,satu_out,pres_out,Xauxu],1)\n",
    "        con_out_norm = self.batchnorm(con_out)\n",
    "        lin1_out = torch.nn.functional.relu(self.lin1(con_out_norm))\n",
    "        lin2_out = torch.nn.functional.relu(self.lin2(lin1_out))\n",
    "        lin3_out = torch.nn.functional.relu(self.lin3(lin2_out))\n",
    "        fopt = self.ouput(lin3_out)  \n",
    "        return fopt"
   ]
  },
  {
   "cell_type": "code",
   "execution_count": 18,
   "metadata": {},
   "outputs": [],
   "source": [
    "### (2) Model\n",
    "device = torch.device(\"cuda:0\" if torch.cuda.is_available() else \"cpu\")\n",
    "net = Net()\n",
    "net.load_state_dict(torch.load(\"my_model.pt\"))\n",
    "net.eval()\n",
    "net = net.to(device)\n",
    "cost_function = torch.nn.MSELoss() # Mean squared error"
   ]
  },
  {
   "cell_type": "code",
   "execution_count": 20,
   "metadata": {},
   "outputs": [
    {
     "name": "stdout",
     "output_type": "stream",
     "text": [
      "tensor(53.0574, grad_fn=<MulBackward0>) Testing MSE loss: tensor(282.6275)\n"
     ]
    }
   ],
   "source": [
    "prediction = net(pt_testing_X_perm,pt_testing_X_poro,pt_testing_X_satu,pt_testing_X_pres,pt_testing_X_auxu) # output of h(x)\n",
    "loss = cost_function(prediction, pt_testing_Y) # average[(y-h(x))^2]  L2 error\n",
    "print(torch.mean(prediction-pt_testing_Y)*10000.0, \"Testing MSE loss:\",loss.data*10000)"
   ]
  },
  {
   "cell_type": "code",
   "execution_count": 21,
   "metadata": {},
   "outputs": [],
   "source": [
    "# L1 error: average[|y-h(x)|]"
   ]
  },
  {
   "cell_type": "code",
   "execution_count": 22,
   "metadata": {},
   "outputs": [
    {
     "data": {
      "text/plain": [
       "tensor(1078.0538, grad_fn=<MulBackward0>)"
      ]
     },
     "execution_count": 22,
     "metadata": {},
     "output_type": "execute_result"
    }
   ],
   "source": [
    "torch.mean(torch.abs(pt_testing_Y-prediction))*10000"
   ]
  },
  {
   "cell_type": "code",
   "execution_count": 23,
   "metadata": {},
   "outputs": [],
   "source": [
    "# Mean difference average[y-h(x)]"
   ]
  },
  {
   "cell_type": "code",
   "execution_count": 24,
   "metadata": {},
   "outputs": [
    {
     "data": {
      "text/plain": [
       "tensor(-53.0574, grad_fn=<MulBackward0>)"
      ]
     },
     "execution_count": 24,
     "metadata": {},
     "output_type": "execute_result"
    }
   ],
   "source": [
    "torch.mean(pt_testing_Y-prediction)*10000"
   ]
  },
  {
   "cell_type": "code",
   "execution_count": 25,
   "metadata": {},
   "outputs": [],
   "source": [
    "import matplotlib.pyplot as plt\n",
    "import numpy as np\n",
    "import scipy.stats\n",
    "def mean_confidence_interval(data, confidence=0.95):\n",
    "    a = 1.0 * np.array(data)\n",
    "    n = len(a)\n",
    "    m, se = np.mean(a), scipy.stats.sem(a)\n",
    "    h = se * scipy.stats.t.ppf((1 + confidence) / 2., n-1)\n",
    "    return m, m-h, m+h"
   ]
  },
  {
   "cell_type": "code",
   "execution_count": 26,
   "metadata": {},
   "outputs": [
    {
     "data": {
      "text/plain": [
       "(array([6.73861543e-06, 0.00000000e+00, 0.00000000e+00, 0.00000000e+00,\n",
       "        0.00000000e+00, 0.00000000e+00, 0.00000000e+00, 0.00000000e+00,\n",
       "        0.00000000e+00, 0.00000000e+00, 0.00000000e+00, 0.00000000e+00,\n",
       "        0.00000000e+00, 6.73860988e-06, 6.73860988e-06, 0.00000000e+00,\n",
       "        6.73860988e-05, 1.01079169e-04, 2.15635516e-04, 4.24532423e-04,\n",
       "        3.70623544e-04, 2.02158317e-04, 6.73860988e-05, 5.39088791e-05,\n",
       "        4.71702692e-05, 3.36930494e-05, 4.04316759e-05, 0.00000000e+00,\n",
       "        6.73860988e-06, 3.36930494e-05]),\n",
       " array([-12152.373  , -11558.779  , -10965.185  , -10371.591  ,\n",
       "         -9777.996  ,  -9184.402  ,  -8590.808  ,  -7997.2134 ,\n",
       "         -7403.6196 ,  -6810.0254 ,  -6216.431  ,  -5622.837  ,\n",
       "         -5029.2427 ,  -4435.6484 ,  -3842.0542 ,  -3248.46   ,\n",
       "         -2654.8657 ,  -2061.2715 ,  -1467.6774 ,   -874.0831 ,\n",
       "          -280.48892,    313.1053 ,    906.69946,   1500.2937 ,\n",
       "          2093.888  ,   2687.4822 ,   3281.0764 ,   3874.6704 ,\n",
       "          4468.2646 ,   5061.859  ,   5655.453  ], dtype=float32),\n",
       " <a list of 30 Patch objects>)"
      ]
     },
     "execution_count": 26,
     "metadata": {},
     "output_type": "execute_result"
    },
    {
     "data": {
      "image/png": "[encoded data removed]",
      "text/plain": [
       "<Figure size 432x288 with 1 Axes>"
      ]
     },
     "metadata": {
      "needs_background": "light"
     },
     "output_type": "display_data"
    }
   ],
   "source": [
    "differences = pt_testing_Y-prediction\n",
    "differences = differences.cpu().detach().numpy()*10000\n",
    "plt.hist(differences, density=True, bins=30)"
   ]
  },
  {
   "cell_type": "code",
   "execution_count": 27,
   "metadata": {},
   "outputs": [
    {
     "data": {
      "text/plain": [
       "(-53.057384,\n",
       " array([-262.78482], dtype=float32),\n",
       " array([156.67006], dtype=float32))"
      ]
     },
     "execution_count": 27,
     "metadata": {},
     "output_type": "execute_result"
    }
   ],
   "source": [
    "mean_confidence_interval(differences)"
   ]
  },
  {
   "cell_type": "code",
   "execution_count": null,
   "metadata": {},
   "outputs": [],
   "source": []
  }
 ],
 "metadata": {
  "kernelspec": {
   "display_name": "Python 3",
   "language": "python",
   "name": "python3"
  },
  "language_info": {
   "codemirror_mode": {
    "name": "ipython",
    "version": 3
   },
   "file_extension": ".py",
   "mimetype": "text/x-python",
   "name": "python",
   "nbconvert_exporter": "python",
   "pygments_lexer": "ipython3",
   "version": "3.8.1"
  }
 },
 "nbformat": 4,
 "nbformat_minor": 2
}
