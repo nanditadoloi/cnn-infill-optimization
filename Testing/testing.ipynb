{
 "cells": [
  {
   "cell_type": "code",
   "execution_count": 1,
   "metadata": {},
   "outputs": [],
   "source": [
    "import torch\n",
    "import torch.nn as nn\n",
    "from torch.autograd import Variable"
   ]
  },
  {
   "cell_type": "code",
   "execution_count": 2,
   "metadata": {},
   "outputs": [],
   "source": [
    "import numpy as np\n",
    "import pandas as pd"
   ]
  },
  {
   "cell_type": "code",
   "execution_count": 3,
   "metadata": {},
   "outputs": [],
   "source": [
    "## Data Wrangling\n",
    "porosity_df = pd.read_csv('Testing/X-poro15_55_5.csv',header=None)\n",
    "porosity_np = porosity_df.to_numpy()\n",
    "porosity_np = porosity_np[:,0:4125]\n",
    "porosity_list = []\n"
   ]
  },
  {
   "cell_type": "code",
   "execution_count": 4,
   "metadata": {},
   "outputs": [],
   "source": [
    "for i in range(250):\n",
    "    new_data_infil = np.reshape(porosity_np[i,:],(15,55,5))\n",
    "    porosity_list.append(new_data_infil)\n",
    "    "
   ]
  },
  {
   "cell_type": "code",
   "execution_count": null,
   "metadata": {},
   "outputs": [],
   "source": []
  },
  {
   "cell_type": "code",
   "execution_count": 5,
   "metadata": {},
   "outputs": [],
   "source": [
    "saturation_df = pd.read_csv('Testing/X-saturation15_55_5.csv',header=None)\n",
    "saturation_np = saturation_df.to_numpy()\n",
    "saturation_np = saturation_np[:,0:4125]\n",
    "saturation_list = []\n"
   ]
  },
  {
   "cell_type": "code",
   "execution_count": 6,
   "metadata": {},
   "outputs": [],
   "source": [
    "for i in range(250):\n",
    "     new_data_infil = np.reshape(saturation_np[i,:],(15,55,5))\n",
    "     saturation_list.append(new_data_infil)\n",
    "    "
   ]
  },
  {
   "cell_type": "code",
   "execution_count": 7,
   "metadata": {},
   "outputs": [
    {
     "data": {
      "text/plain": [
       "(250, 4126)"
      ]
     },
     "execution_count": 7,
     "metadata": {},
     "output_type": "execute_result"
    }
   ],
   "source": [
    "saturation_df.shape"
   ]
  },
  {
   "cell_type": "code",
   "execution_count": 8,
   "metadata": {},
   "outputs": [],
   "source": [
    "pressure_df = pd.read_csv('Testing/X-pressure15_55_5.csv',header=None)\n",
    "pressure_np = pressure_df.to_numpy()\n",
    "pressure_np = pressure_np[:,0:4125]\n",
    "pressure_list = []\n"
   ]
  },
  {
   "cell_type": "code",
   "execution_count": 9,
   "metadata": {},
   "outputs": [],
   "source": [
    "for i in range(250):\n",
    "    new_data_infil = np.reshape(pressure_np[i,:],(15,55,5))\n",
    "    pressure_list.append(new_data_infil)\n",
    "    "
   ]
  },
  {
   "cell_type": "code",
   "execution_count": null,
   "metadata": {},
   "outputs": [],
   "source": []
  },
  {
   "cell_type": "code",
   "execution_count": 10,
   "metadata": {},
   "outputs": [],
   "source": [
    "permeability_df = pd.read_csv('Testing/X-perm.csv',header=None)\n",
    "permeability_np = permeability_df.to_numpy()\n",
    "permeability_np = permeability_np[:,0:4125]\n",
    "permeability_list = []\n"
   ]
  },
  {
   "cell_type": "code",
   "execution_count": 11,
   "metadata": {},
   "outputs": [],
   "source": [
    "for i in range(250):\n",
    "    new_data_infil = np.reshape(permeability_np[i,:],(15,55,5))\n",
    "    permeability_list.append(new_data_infil)\n",
    "    \n"
   ]
  },
  {
   "cell_type": "code",
   "execution_count": 12,
   "metadata": {},
   "outputs": [],
   "source": [
    "auxiliary_df = pd.read_csv('Testing/X-auxilary15_55_5_test.csv',header=None)\n",
    "auxiliary_np = auxiliary_df.to_numpy()\n",
    "auxiliary_np = auxiliary_np[:,0:7]\n",
    "auxiliary_list = []"
   ]
  },
  {
   "cell_type": "code",
   "execution_count": 14,
   "metadata": {},
   "outputs": [],
   "source": [
    "for i in range(250):\n",
    "    auxiliary_list.append(auxiliary_np[i,:])\n",
    "    "
   ]
  },
  {
   "cell_type": "code",
   "execution_count": null,
   "metadata": {},
   "outputs": [],
   "source": []
  },
  {
   "cell_type": "code",
   "execution_count": 15,
   "metadata": {},
   "outputs": [
    {
     "ename": "FileNotFoundError",
     "evalue": "[Errno 2] File b'Testing/Y-FOPT.csv' does not exist: b'Testing/Y-FOPT.csv'",
     "output_type": "error",
     "traceback": [
      "\u001b[0;31m---------------------------------------------------------------------------\u001b[0m",
      "\u001b[0;31mFileNotFoundError\u001b[0m                         Traceback (most recent call last)",
      "\u001b[0;32m<ipython-input-15-28f81c9789a7>\u001b[0m in \u001b[0;36m<module>\u001b[0;34m\u001b[0m\n\u001b[0;32m----> 1\u001b[0;31m \u001b[0mFOPT_df\u001b[0m \u001b[0;34m=\u001b[0m \u001b[0mpd\u001b[0m\u001b[0;34m.\u001b[0m\u001b[0mread_csv\u001b[0m\u001b[0;34m(\u001b[0m\u001b[0;34m'Testing/Y-FOPT.csv'\u001b[0m\u001b[0;34m,\u001b[0m\u001b[0mheader\u001b[0m\u001b[0;34m=\u001b[0m\u001b[0;32mNone\u001b[0m\u001b[0;34m)\u001b[0m\u001b[0;34m\u001b[0m\u001b[0m\n\u001b[0m\u001b[1;32m      2\u001b[0m \u001b[0mFOPT_np\u001b[0m \u001b[0;34m=\u001b[0m \u001b[0mFOPT_df\u001b[0m\u001b[0;34m.\u001b[0m\u001b[0mto_numpy\u001b[0m\u001b[0;34m(\u001b[0m\u001b[0;34m)\u001b[0m\u001b[0;34m\u001b[0m\u001b[0m\n\u001b[1;32m      3\u001b[0m \u001b[0mFOPT_np\u001b[0m \u001b[0;34m=\u001b[0m \u001b[0mFOPT_np\u001b[0m\u001b[0;34m[\u001b[0m\u001b[0;34m:\u001b[0m\u001b[0;34m,\u001b[0m\u001b[0;36m0\u001b[0m\u001b[0;34m]\u001b[0m\u001b[0;34m\u001b[0m\u001b[0m\n\u001b[1;32m      4\u001b[0m \u001b[0mFOPT_list\u001b[0m \u001b[0;34m=\u001b[0m \u001b[0;34m[\u001b[0m\u001b[0;34m]\u001b[0m\u001b[0;34m\u001b[0m\u001b[0m\n",
      "\u001b[0;32m/usr/local/lib/python3.5/dist-packages/pandas/io/parsers.py\u001b[0m in \u001b[0;36mparser_f\u001b[0;34m(filepath_or_buffer, sep, delimiter, header, names, index_col, usecols, squeeze, prefix, mangle_dupe_cols, dtype, engine, converters, true_values, false_values, skipinitialspace, skiprows, skipfooter, nrows, na_values, keep_default_na, na_filter, verbose, skip_blank_lines, parse_dates, infer_datetime_format, keep_date_col, date_parser, dayfirst, iterator, chunksize, compression, thousands, decimal, lineterminator, quotechar, quoting, doublequote, escapechar, comment, encoding, dialect, tupleize_cols, error_bad_lines, warn_bad_lines, delim_whitespace, low_memory, memory_map, float_precision)\u001b[0m\n\u001b[1;32m    700\u001b[0m                     skip_blank_lines=skip_blank_lines)\n\u001b[1;32m    701\u001b[0m \u001b[0;34m\u001b[0m\u001b[0m\n\u001b[0;32m--> 702\u001b[0;31m         \u001b[0;32mreturn\u001b[0m \u001b[0m_read\u001b[0m\u001b[0;34m(\u001b[0m\u001b[0mfilepath_or_buffer\u001b[0m\u001b[0;34m,\u001b[0m \u001b[0mkwds\u001b[0m\u001b[0;34m)\u001b[0m\u001b[0;34m\u001b[0m\u001b[0m\n\u001b[0m\u001b[1;32m    703\u001b[0m \u001b[0;34m\u001b[0m\u001b[0m\n\u001b[1;32m    704\u001b[0m     \u001b[0mparser_f\u001b[0m\u001b[0;34m.\u001b[0m\u001b[0m__name__\u001b[0m \u001b[0;34m=\u001b[0m \u001b[0mname\u001b[0m\u001b[0;34m\u001b[0m\u001b[0m\n",
      "\u001b[0;32m/usr/local/lib/python3.5/dist-packages/pandas/io/parsers.py\u001b[0m in \u001b[0;36m_read\u001b[0;34m(filepath_or_buffer, kwds)\u001b[0m\n\u001b[1;32m    427\u001b[0m \u001b[0;34m\u001b[0m\u001b[0m\n\u001b[1;32m    428\u001b[0m     \u001b[0;31m# Create the parser.\u001b[0m\u001b[0;34m\u001b[0m\u001b[0;34m\u001b[0m\u001b[0m\n\u001b[0;32m--> 429\u001b[0;31m     \u001b[0mparser\u001b[0m \u001b[0;34m=\u001b[0m \u001b[0mTextFileReader\u001b[0m\u001b[0;34m(\u001b[0m\u001b[0mfilepath_or_buffer\u001b[0m\u001b[0;34m,\u001b[0m \u001b[0;34m**\u001b[0m\u001b[0mkwds\u001b[0m\u001b[0;34m)\u001b[0m\u001b[0;34m\u001b[0m\u001b[0m\n\u001b[0m\u001b[1;32m    430\u001b[0m \u001b[0;34m\u001b[0m\u001b[0m\n\u001b[1;32m    431\u001b[0m     \u001b[0;32mif\u001b[0m \u001b[0mchunksize\u001b[0m \u001b[0;32mor\u001b[0m \u001b[0miterator\u001b[0m\u001b[0;34m:\u001b[0m\u001b[0;34m\u001b[0m\u001b[0m\n",
      "\u001b[0;32m/usr/local/lib/python3.5/dist-packages/pandas/io/parsers.py\u001b[0m in \u001b[0;36m__init__\u001b[0;34m(self, f, engine, **kwds)\u001b[0m\n\u001b[1;32m    893\u001b[0m             \u001b[0mself\u001b[0m\u001b[0;34m.\u001b[0m\u001b[0moptions\u001b[0m\u001b[0;34m[\u001b[0m\u001b[0;34m'has_index_names'\u001b[0m\u001b[0;34m]\u001b[0m \u001b[0;34m=\u001b[0m \u001b[0mkwds\u001b[0m\u001b[0;34m[\u001b[0m\u001b[0;34m'has_index_names'\u001b[0m\u001b[0;34m]\u001b[0m\u001b[0;34m\u001b[0m\u001b[0m\n\u001b[1;32m    894\u001b[0m \u001b[0;34m\u001b[0m\u001b[0m\n\u001b[0;32m--> 895\u001b[0;31m         \u001b[0mself\u001b[0m\u001b[0;34m.\u001b[0m\u001b[0m_make_engine\u001b[0m\u001b[0;34m(\u001b[0m\u001b[0mself\u001b[0m\u001b[0;34m.\u001b[0m\u001b[0mengine\u001b[0m\u001b[0;34m)\u001b[0m\u001b[0;34m\u001b[0m\u001b[0m\n\u001b[0m\u001b[1;32m    896\u001b[0m \u001b[0;34m\u001b[0m\u001b[0m\n\u001b[1;32m    897\u001b[0m     \u001b[0;32mdef\u001b[0m \u001b[0mclose\u001b[0m\u001b[0;34m(\u001b[0m\u001b[0mself\u001b[0m\u001b[0;34m)\u001b[0m\u001b[0;34m:\u001b[0m\u001b[0;34m\u001b[0m\u001b[0m\n",
      "\u001b[0;32m/usr/local/lib/python3.5/dist-packages/pandas/io/parsers.py\u001b[0m in \u001b[0;36m_make_engine\u001b[0;34m(self, engine)\u001b[0m\n\u001b[1;32m   1120\u001b[0m     \u001b[0;32mdef\u001b[0m \u001b[0m_make_engine\u001b[0m\u001b[0;34m(\u001b[0m\u001b[0mself\u001b[0m\u001b[0;34m,\u001b[0m \u001b[0mengine\u001b[0m\u001b[0;34m=\u001b[0m\u001b[0;34m'c'\u001b[0m\u001b[0;34m)\u001b[0m\u001b[0;34m:\u001b[0m\u001b[0;34m\u001b[0m\u001b[0m\n\u001b[1;32m   1121\u001b[0m         \u001b[0;32mif\u001b[0m \u001b[0mengine\u001b[0m \u001b[0;34m==\u001b[0m \u001b[0;34m'c'\u001b[0m\u001b[0;34m:\u001b[0m\u001b[0;34m\u001b[0m\u001b[0m\n\u001b[0;32m-> 1122\u001b[0;31m             \u001b[0mself\u001b[0m\u001b[0;34m.\u001b[0m\u001b[0m_engine\u001b[0m \u001b[0;34m=\u001b[0m \u001b[0mCParserWrapper\u001b[0m\u001b[0;34m(\u001b[0m\u001b[0mself\u001b[0m\u001b[0;34m.\u001b[0m\u001b[0mf\u001b[0m\u001b[0;34m,\u001b[0m \u001b[0;34m**\u001b[0m\u001b[0mself\u001b[0m\u001b[0;34m.\u001b[0m\u001b[0moptions\u001b[0m\u001b[0;34m)\u001b[0m\u001b[0;34m\u001b[0m\u001b[0m\n\u001b[0m\u001b[1;32m   1123\u001b[0m         \u001b[0;32melse\u001b[0m\u001b[0;34m:\u001b[0m\u001b[0;34m\u001b[0m\u001b[0m\n\u001b[1;32m   1124\u001b[0m             \u001b[0;32mif\u001b[0m \u001b[0mengine\u001b[0m \u001b[0;34m==\u001b[0m \u001b[0;34m'python'\u001b[0m\u001b[0;34m:\u001b[0m\u001b[0;34m\u001b[0m\u001b[0m\n",
      "\u001b[0;32m/usr/local/lib/python3.5/dist-packages/pandas/io/parsers.py\u001b[0m in \u001b[0;36m__init__\u001b[0;34m(self, src, **kwds)\u001b[0m\n\u001b[1;32m   1851\u001b[0m         \u001b[0mkwds\u001b[0m\u001b[0;34m[\u001b[0m\u001b[0;34m'usecols'\u001b[0m\u001b[0;34m]\u001b[0m \u001b[0;34m=\u001b[0m \u001b[0mself\u001b[0m\u001b[0;34m.\u001b[0m\u001b[0musecols\u001b[0m\u001b[0;34m\u001b[0m\u001b[0m\n\u001b[1;32m   1852\u001b[0m \u001b[0;34m\u001b[0m\u001b[0m\n\u001b[0;32m-> 1853\u001b[0;31m         \u001b[0mself\u001b[0m\u001b[0;34m.\u001b[0m\u001b[0m_reader\u001b[0m \u001b[0;34m=\u001b[0m \u001b[0mparsers\u001b[0m\u001b[0;34m.\u001b[0m\u001b[0mTextReader\u001b[0m\u001b[0;34m(\u001b[0m\u001b[0msrc\u001b[0m\u001b[0;34m,\u001b[0m \u001b[0;34m**\u001b[0m\u001b[0mkwds\u001b[0m\u001b[0;34m)\u001b[0m\u001b[0;34m\u001b[0m\u001b[0m\n\u001b[0m\u001b[1;32m   1854\u001b[0m         \u001b[0mself\u001b[0m\u001b[0;34m.\u001b[0m\u001b[0munnamed_cols\u001b[0m \u001b[0;34m=\u001b[0m \u001b[0mself\u001b[0m\u001b[0;34m.\u001b[0m\u001b[0m_reader\u001b[0m\u001b[0;34m.\u001b[0m\u001b[0munnamed_cols\u001b[0m\u001b[0;34m\u001b[0m\u001b[0m\n\u001b[1;32m   1855\u001b[0m \u001b[0;34m\u001b[0m\u001b[0m\n",
      "\u001b[0;32mpandas/_libs/parsers.pyx\u001b[0m in \u001b[0;36mpandas._libs.parsers.TextReader.__cinit__\u001b[0;34m()\u001b[0m\n",
      "\u001b[0;32mpandas/_libs/parsers.pyx\u001b[0m in \u001b[0;36mpandas._libs.parsers.TextReader._setup_parser_source\u001b[0;34m()\u001b[0m\n",
      "\u001b[0;31mFileNotFoundError\u001b[0m: [Errno 2] File b'Testing/Y-FOPT.csv' does not exist: b'Testing/Y-FOPT.csv'"
     ]
    }
   ],
   "source": [
    "FOPT_df = pd.read_csv('Testing/Y-FOPT.csv',header=None)\n",
    "FOPT_np = FOPT_df.to_numpy()\n",
    "FOPT_np = FOPT_np[:,0]\n",
    "FOPT_list = []\n"
   ]
  },
  {
   "cell_type": "code",
   "execution_count": 15,
   "metadata": {},
   "outputs": [],
   "source": [
    "for i in range(250):\n",
    "    FOPT_list.append([FOPT_np[i]])\n",
    "    "
   ]
  },
  {
   "cell_type": "code",
   "execution_count": null,
   "metadata": {},
   "outputs": [],
   "source": []
  },
  {
   "cell_type": "code",
   "execution_count": null,
   "metadata": {},
   "outputs": [],
   "source": []
  },
  {
   "cell_type": "code",
   "execution_count": 16,
   "metadata": {},
   "outputs": [],
   "source": [
    "### (1): Data\n",
    "training_X_perm = np.array(permeability_list)\n",
    "training_X_poro = np.array(porosity_list)\n",
    "training_X_satu = np.array(saturation_list)\n",
    "training_X_pres = np.array(pressure_list)\n",
    "training_X_auxu = np.array(auxiliary_list)\n",
    "training_Y = np.array(FOPT_list)/10000.0\n",
    "\n",
    "\n",
    "\n",
    "validation_X_perm = np.array(permeability_validation_list)\n",
    "validation_X_poro = np.array(porosity_validation_list)\n",
    "validation_X_satu = np.array(saturation_validation_list)\n",
    "validation_X_pres = np.array(pressure_validation_list)\n",
    "validation_X_auxu = np.array(auxiliary_validation_list)\n",
    "validation_Y = np.array(FOPT_validation_list)/10000.0"
   ]
  },
  {
   "cell_type": "code",
   "execution_count": 17,
   "metadata": {},
   "outputs": [],
   "source": [
    "device = torch.device(\"cuda:0\" if torch.cuda.is_available() else \"cpu\")\n",
    "### Format Channels for CNN Networks\n",
    "training_X_perm = np.expand_dims(training_X_perm, axis=1)\n",
    "training_X_poro = np.expand_dims(training_X_poro, axis=1)\n",
    "training_X_satu = np.expand_dims(training_X_satu, axis=1)\n",
    "training_X_pres = np.expand_dims(training_X_pres, axis=1)\n",
    "pt_training_X_perm = Variable(torch.from_numpy(training_X_perm).float(), requires_grad=False).to(device)\n",
    "pt_training_X_poro = Variable(torch.from_numpy(training_X_poro).float(), requires_grad=False).to(device)\n",
    "pt_training_X_satu = Variable(torch.from_numpy(training_X_satu).float(), requires_grad=False).to(device)\n",
    "pt_training_X_pres = Variable(torch.from_numpy(training_X_pres).float(), requires_grad=False).to(device)\n",
    "pt_training_X_auxu = Variable(torch.from_numpy(training_X_auxu).float(), requires_grad=False).to(device)\n",
    "pt_training_Y = Variable(torch.from_numpy(training_Y).float(), requires_grad=False).to(device)\n",
    "\n",
    "\n",
    "\n",
    "\n",
    "validation_X_perm = np.expand_dims(validation_X_perm, axis=1)\n",
    "validation_X_poro = np.expand_dims(validation_X_poro, axis=1)\n",
    "validation_X_satu = np.expand_dims(validation_X_satu, axis=1)\n",
    "validation_X_pres = np.expand_dims(validation_X_pres, axis=1)\n",
    "validation_Y = validation_Y.reshape(-1,1)\n",
    "pt_validation_X_perm = Variable(torch.from_numpy(validation_X_perm).float(), requires_grad=False).to(device)\n",
    "pt_validation_X_poro = Variable(torch.from_numpy(validation_X_poro).float(), requires_grad=False).to(device)\n",
    "pt_validation_X_satu = Variable(torch.from_numpy(validation_X_satu).float(), requires_grad=False).to(device)\n",
    "pt_validation_X_pres = Variable(torch.from_numpy(validation_X_pres).float(), requires_grad=False).to(device)\n",
    "pt_validation_X_auxu = Variable(torch.from_numpy(validation_X_auxu).float(), requires_grad=False).to(device)\n",
    "pt_validation_Y = Variable(torch.from_numpy(validation_Y).float(), requires_grad=False).to(device)"
   ]
  },
  {
   "cell_type": "raw",
   "metadata": {},
   "source": [
    "# CNN Formula: W_new = ((W-F+2P)/S) +1\n",
    "# W = Width of the input\n",
    "# F = CNN filter width\n",
    "# P = Padding: Width of zeros around the data\n",
    "# S = Stride: Number of skips make by the filter\n",
    "w_new = ((15-3+2)/1) + 1 = 5\n",
    "wnew = (5-2+2p) + 1 = 4+2p : p=0: w_new = 4\n",
    "        1 X 5x5x5\n",
    "        Our First CNN Layer:\n",
    "            W=15 H=5 D=5\n",
    "            F=3   3   2\n",
    "            P=0   0   0\n",
    "            S=1   1   1\n",
    "            C=100\n",
    "            W_new=4 4 4\n",
    "#         Maxpool:\n",
    "#             W_new=2 2 2\n",
    "#             C=100\n",
    "        2nd CNN layer:\n",
    "            W=4 4 4\n",
    "            F=2\n",
    "            P=0\n",
    "            S=1\n",
    "            C=100\n",
    "            W_new=3 3 3\n",
    "        3rd CNN Layer:\n",
    "            W=3\n",
    "            F=2\n",
    "            P=0\n",
    "            S=1\n",
    "            C=100\n",
    "            W_new=2 2 2 \n",
    "            100*2*2*2 = 800"
   ]
  },
  {
   "cell_type": "code",
   "execution_count": 18,
   "metadata": {},
   "outputs": [],
   "source": [
    "class CNN100(nn.Module):\n",
    "    def __init__(self):\n",
    "        super(CNN100, self).__init__()\n",
    "        self.conv1 = torch.nn.Conv3d(in_channels=1, out_channels=100, kernel_size=[3,3,2], stride=1, padding=0)\n",
    "        self.conv2 = torch.nn.Conv3d(in_channels=100, out_channels=100, kernel_size=[3,3,2], stride=1, padding=0)\n",
    "        self.conv3 = torch.nn.Conv3d(in_channels=100, out_channels=100, kernel_size=[3,3,2], stride=1, padding=0)\n",
    "        self.batchnorm = torch.nn.BatchNorm3d(num_features=1)\n",
    "        self.maxpool = torch.nn.MaxPool3d(kernel_size=[2,2,1])\n",
    "        self.maxpool_2 = torch.nn.MaxPool3d(kernel_size=[1,2,2])\n",
    "        \n",
    "\n",
    "    def forward(self, x):\n",
    "        norm_x = self.batchnorm(x)\n",
    "        conv1_out = self.maxpool(torch.nn.functional.relu(self.conv1(norm_x)))\n",
    "        conv2_out = self.maxpool(torch.nn.functional.relu(self.conv2(conv1_out)))\n",
    "        conv3_out = self.maxpool_2(torch.nn.functional.relu(self.conv3(conv2_out)))\n",
    "        flat_out = conv3_out.reshape(conv3_out.shape[0],-1)\n",
    "        return flat_out\n",
    "\n",
    "class CNN20(nn.Module):\n",
    "    def __init__(self):\n",
    "        super(CNN20, self).__init__()\n",
    "        self.conv1 = torch.nn.Conv3d(in_channels=1, out_channels=20, kernel_size=[3,3,2], stride=1, padding=0)\n",
    "        self.conv2 = torch.nn.Conv3d(in_channels=20, out_channels=20, kernel_size=[3,3,2], stride=1, padding=0)\n",
    "        self.conv3 = torch.nn.Conv3d(in_channels=20, out_channels=20, kernel_size=[3,3,2], stride=1, padding=0)\n",
    "        self.batchnorm = torch.nn.BatchNorm3d(num_features=1)\n",
    "        self.maxpool = torch.nn.MaxPool3d(kernel_size=[2,2,1])\n",
    "        self.maxpool_2 = torch.nn.MaxPool3d(kernel_size=[1,2,2])\n",
    "\n",
    "    def forward(self, x):\n",
    "        norm_x = self.batchnorm(x)\n",
    "        conv1_out = self.maxpool(torch.nn.functional.relu(self.conv1(norm_x)))\n",
    "        conv2_out = self.maxpool(torch.nn.functional.relu(self.conv2(conv1_out)))\n",
    "        conv3_out = self.maxpool_2(torch.nn.functional.relu(self.conv3(conv2_out)))\n",
    "        flat_out = conv3_out.reshape(conv3_out.shape[0],-1)\n",
    "        return flat_out\n",
    "\n",
    "class Net(nn.Module):\n",
    "    def __init__(self):\n",
    "        super(Net, self).__init__()\n",
    "        self.perm_cnn = CNN100()\n",
    "        self.poro_cnn = CNN100()\n",
    "        self.satu_cnn = CNN20()\n",
    "        self.pres_cnn = CNN20()\n",
    "        self.batchnorm = torch.nn.BatchNorm1d(num_features=1447)\n",
    "        \n",
    "        self.lin1 = torch.nn.Linear(in_features=1447, out_features=500)\n",
    "        self.lin2 = torch.nn.Linear(in_features=500, out_features=100)\n",
    "        self.lin3 = torch.nn.Linear(in_features=100, out_features=30)\n",
    "        self.ouput = torch.nn.Linear(in_features=30, out_features=1)\n",
    "    \n",
    "    def forward(self, Xperm, Xporo, Xsatu, Xpres, Xauxu):\n",
    "        poro_out = self.poro_cnn(Xporo)\n",
    "        perm_out = self.perm_cnn(Xperm)\n",
    "        satu_out = self.satu_cnn(Xsatu)\n",
    "        pres_out = self.pres_cnn(Xpres)\n",
    "        #Concatenation\n",
    "        con_out = torch.cat([perm_out,poro_out,satu_out,pres_out,Xauxu],1)\n",
    "        con_out_norm = self.batchnorm(con_out)\n",
    "        lin1_out = torch.nn.functional.relu(self.lin1(con_out_norm))\n",
    "        lin2_out = torch.nn.functional.relu(self.lin2(lin1_out))\n",
    "        lin3_out = torch.nn.functional.relu(self.lin3(lin2_out))\n",
    "        fopt = self.ouput(lin3_out)  \n",
    "        return fopt"
   ]
  },
  {
   "cell_type": "code",
   "execution_count": 19,
   "metadata": {},
   "outputs": [],
   "source": [
    "### (2) Model\n",
    "device= torch.device(\"cuda:0\" if torch.cuda.is available() else \"cpu\")\n",
    "net = Net()\n",
    "net.load_state_dict(torch.load(\"my_model.pt\"))\n",
    "net.eva()\n",
    "net = net.to(device)\n",
    "cost_function = torch.nn.MSELoss() # Mean squared error"
   ]
  },
  {
   "cell_type": "code",
   "execution_count": null,
   "metadata": {},
   "outputs": [],
   "source": [
    "### (3) Training / Fitting\n",
    "prediction= net(pt_testing_X_perm,pt_testing_X_poro,pt_testing_X_satu,pt_testing_X_pres,pt_testing_X_auxu) # output of h(x)\n",
    "loss= cost_function(prediction,pt_testing_Y) # average[(y-h(x))^2] L2 error\n",
    "print(torch.mean(prediction-pt_testing_Y)*10000.0, \"Testing MSE loss:\", loss.data*10000)\n",
    "    "
   ]
  },
  {
   "cell_type": "code",
   "execution_count": null,
   "metadata": {},
   "outputs": [],
   "source": [
    "#L1 error:average[|y-h(x)|]"
   ]
  },
  {
   "cell_type": "code",
   "execution_count": null,
   "metadata": {},
   "outputs": [],
   "source": [
    "torch.mean(torch.abs(pt_testing_Y-prediction))*10000"
   ]
  },
  {
   "cell_type": "code",
   "execution_count": null,
   "metadata": {},
   "outputs": [],
   "source": [
    "# Mean difference average[y-h(x)]"
   ]
  },
  {
   "cell_type": "code",
   "execution_count": null,
   "metadata": {},
   "outputs": [],
   "source": [
    "torch.mean(pt_testing_Y-prediction)*10000"
   ]
  },
  {
   "cell_type": "code",
   "execution_count": null,
   "metadata": {},
   "outputs": [],
   "source": []
  },
  {
   "cell_type": "code",
   "execution_count": null,
   "metadata": {},
   "outputs": [],
   "source": []
  }
 ],
 "metadata": {
  "kernelspec": {
   "display_name": "Python 3",
   "language": "python",
   "name": "python3"
  },
  "language_info": {
   "codemirror_mode": {
    "name": "ipython",
    "version": 3
   },
   "file_extension": ".py",
   "mimetype": "text/x-python",
   "name": "python",
   "nbconvert_exporter": "python",
   "pygments_lexer": "ipython3",
   "version": "3.5.2"
  }
 },
 "nbformat": 4,
 "nbformat_minor": 2
}
